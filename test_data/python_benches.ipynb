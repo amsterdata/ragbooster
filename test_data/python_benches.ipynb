{
 "cells": [
  {
   "cell_type": "code",
   "execution_count": 8,
   "id": "2669d955",
   "metadata": {},
   "outputs": [],
   "source": [
    "import numpy as np\n",
    "\n",
    "def ComputeBoundarySetProb_anyloss(v_train, value_dict, p, K, M, B):\n",
    "    n_value = len(value_dict)\n",
    "    for i in range(M, 0, -1):\n",
    "        for k in range(1, K+1):\n",
    "            for e in range(0, n_value):\n",
    "                B[k][i][e] = B[k][i+1][e] * (1 - p[i-1]) + B[k-1][i+1][e] * p[i-1]\n",
    "                if (k==1) & (value_dict[e] == v_train[i-1]):\n",
    "                    B[k][i][e] += p[i-1]\n",
    "    return B"
   ]
  },
  {
   "cell_type": "code",
   "execution_count": 9,
   "id": "5867fd74",
   "metadata": {},
   "outputs": [],
   "source": [
    "M = 1000\n",
    "K = 50\n",
    "E = 5\n",
    "\n",
    "p = np.ones(M) * 0.5\n",
    "value_dict = [0, 1, 2, 3, 4]\n",
    "v_train = [i % E for i in range(0, M)]\n",
    "\n",
    "def generate_b(v_train, value_dict, p, K, M, E):\n",
    "    B = np.zeros([K+1, M+2, E])\n",
    "    B = ComputeBoundarySetProb_anyloss(v_train, value_dict, p, K, M, B)\n",
    "    return B\n"
   ]
  },
  {
   "cell_type": "code",
   "execution_count": 10,
   "id": "421ad961",
   "metadata": {},
   "outputs": [
    {
     "name": "stdout",
     "output_type": "stream",
     "text": [
      "388 ms ± 9.01 ms per loop (mean ± std. dev. of 7 runs, 1 loop each)\n"
     ]
    }
   ],
   "source": [
    "%timeit generate_b(v_train, value_dict, p, K, M, E)"
   ]
  },
  {
   "cell_type": "code",
   "execution_count": null,
   "id": "262fa18c",
   "metadata": {},
   "outputs": [],
   "source": []
  }
 ],
 "metadata": {
  "kernelspec": {
   "display_name": "Python 3 (ipykernel)",
   "language": "python",
   "name": "python3"
  },
  "language_info": {
   "codemirror_mode": {
    "name": "ipython",
    "version": 3
   },
   "file_extension": ".py",
   "mimetype": "text/x-python",
   "name": "python",
   "nbconvert_exporter": "python",
   "pygments_lexer": "ipython3",
   "version": "3.9.16"
  }
 },
 "nbformat": 4,
 "nbformat_minor": 5
}
