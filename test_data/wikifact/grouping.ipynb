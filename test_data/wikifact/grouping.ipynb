{
 "cells": [
  {
   "cell_type": "code",
   "execution_count": null,
   "id": "d2f9e243",
   "metadata": {},
   "outputs": [],
   "source": [
    "# !pip3.9 install tldextract"
   ]
  },
  {
   "cell_type": "code",
   "execution_count": 1,
   "id": "5ed30ae7",
   "metadata": {},
   "outputs": [],
   "source": [
    "import tldextract\n",
    "import json\n",
    "\n",
    "def group_websites_by_domain(website_file, out_file):\n",
    "    by_domain = {}\n",
    "\n",
    "    with open(website_file, 'r') as file:\n",
    "        for line in file:\n",
    "            url = line.rstrip()\n",
    "            parts = tldextract.extract(url)\n",
    "            domain = f'{parts.domain}.{parts.suffix}'\n",
    "\n",
    "            if domain not in by_domain:\n",
    "                by_domain[domain] = []\n",
    "\n",
    "            by_domain[domain].append(url)\n",
    "\n",
    "\n",
    "    all_domains = list(by_domain.keys())\n",
    "    all_domains.sort()\n",
    "\n",
    "    with open(out_file, 'w') as outfile:\n",
    "        for domain in all_domains:    \n",
    "            subdomains = by_domain[domain]\n",
    "            subdomains.sort()\n",
    "            group = {'name': domain, 'elements': subdomains}\n",
    "            outfile.write(json.dumps(group) + '\\n')       "
   ]
  },
  {
   "cell_type": "code",
   "execution_count": 2,
   "id": "710b8c8f",
   "metadata": {},
   "outputs": [],
   "source": [
    "group_websites_by_domain('author_websites.txt', 'author_websites_by_domain.jsonl')"
   ]
  },
  {
   "cell_type": "code",
   "execution_count": 3,
   "id": "6b5ff354",
   "metadata": {},
   "outputs": [],
   "source": [
    "group_websites_by_domain('currency_websites.txt', 'currency_websites_by_domain.jsonl')"
   ]
  },
  {
   "cell_type": "code",
   "execution_count": 4,
   "id": "ede6740d",
   "metadata": {},
   "outputs": [],
   "source": [
    "group_websites_by_domain('place_of_birth_websites.txt', 'place_of_birth_websites_by_domain.jsonl')"
   ]
  },
  {
   "cell_type": "code",
   "execution_count": null,
   "id": "885f99f9",
   "metadata": {},
   "outputs": [],
   "source": []
  }
 ],
 "metadata": {
  "kernelspec": {
   "display_name": "Python 3 (ipykernel)",
   "language": "python",
   "name": "python3"
  },
  "language_info": {
   "codemirror_mode": {
    "name": "ipython",
    "version": 3
   },
   "file_extension": ".py",
   "mimetype": "text/x-python",
   "name": "python",
   "nbconvert_exporter": "python",
   "pygments_lexer": "ipython3",
   "version": "3.9.16"
  }
 },
 "nbformat": 4,
 "nbformat_minor": 5
}
