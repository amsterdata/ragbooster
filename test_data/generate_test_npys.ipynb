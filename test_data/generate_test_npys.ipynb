{
 "cells": [
  {
   "cell_type": "code",
   "execution_count": 2,
   "id": "2669d955",
   "metadata": {},
   "outputs": [],
   "source": [
    "import numpy as np\n",
    "\n",
    "def ComputeProb(p, K, M):\n",
    "    \n",
    "    IP = np.zeros([K+1, M+2])\n",
    "    RP = np.zeros([K+1, M+2])    \n",
    "    \n",
    "    IP[0][0] = 1\n",
    "    RP[0][M+1] = 1\n",
    "\n",
    "    for j in range(1, M+1):\n",
    "        IP[0][j] = IP[0][j-1] * (1 - p[j-1])\n",
    "        for k in range(1,K+1):\n",
    "            IP[k][j] = IP[k][j-1] * (1 - p[j-1]) + IP[k-1][j-1] * p[j-1]\n",
    "\n",
    "    for j in range(M, 0, -1):\n",
    "        RP[0][j] = RP[0][j+1] * (1 - p[j-1])\n",
    "        for k in range(1,K+1):\n",
    "            RP[k][j] = RP[k][j+1] * (1 - p[j-1]) + RP[k-1][j+1] * p[j-1]\n",
    "\n",
    "    return IP, RP"
   ]
  },
  {
   "cell_type": "code",
   "execution_count": 3,
   "id": "e038b88f",
   "metadata": {},
   "outputs": [],
   "source": [
    "def ComputeBoundarySetProb_anyloss(v_train, value_dict, p, K, M, B):\n",
    "    n_value = len(value_dict)\n",
    "    for i in range(M, 0, -1):\n",
    "        for k in range(1, K+1):\n",
    "            for e in range(0, n_value):\n",
    "                B[k][i][e] = B[k][i+1][e] * (1 - p[i-1]) + B[k-1][i+1][e] * p[i-1]\n",
    "                if (k==1) & (value_dict[e] == v_train[i-1]):\n",
    "                    B[k][i][e] += p[i-1]\n",
    "    return B"
   ]
  },
  {
   "cell_type": "code",
   "execution_count": 7,
   "id": "abb3f2b1",
   "metadata": {},
   "outputs": [],
   "source": [
    "M = 10\n",
    "K = 3\n",
    "p = np.ones(M) * 0.5\n",
    "IP, RP = ComputeProb(p, K, M)\n",
    "\n",
    "np.save('IP_M10_K3_p05.npy', IP.flatten())\n",
    "np.save('RP_M10_K3_p05.npy', RP.flatten())"
   ]
  },
  {
   "cell_type": "code",
   "execution_count": 13,
   "id": "e7403e0e",
   "metadata": {},
   "outputs": [],
   "source": [
    "K = 3\n",
    "M = 10\n",
    "p = np.array([0.25 + (i % 2) * 0.5 for i in range(0, M)])\n",
    "IP, RP = ComputeProb(p, K, M)\n",
    "\n",
    "np.save('IP_M10_K3_p025075.npy', IP.flatten())\n",
    "np.save('RP_M10_K3_p025075.npy', RP.flatten())"
   ]
  },
  {
   "cell_type": "code",
   "execution_count": 5,
   "id": "43849dca",
   "metadata": {},
   "outputs": [],
   "source": [
    "K = 3\n",
    "M = 10\n",
    "p = np.ones(M) * 0.5\n",
    "v_train = np.ones(M)\n",
    "value_dict = np.array([0, 1, 2, 3, 4])\n",
    "n_value = len(value_dict)\n",
    "\n",
    "B = np.zeros([K+1, M+2, n_value])\n",
    "\n",
    "B = ComputeBoundarySetProb_anyloss(v_train, value_dict, p, K, M, B)\n",
    "\n",
    "np.save('B_M10_K3_p05_E5.npy', B.flatten())"
   ]
  },
  {
   "cell_type": "code",
   "execution_count": 6,
   "id": "18bbddd1",
   "metadata": {},
   "outputs": [],
   "source": [
    "K = 3\n",
    "M = 10\n",
    "p = np.array([0.25 + (i % 2) * 0.5 for i in range(0, M)])\n",
    "v_train = np.ones(M)\n",
    "value_dict = np.array([0, 1, 2, 3, 4])\n",
    "n_value = len(value_dict)\n",
    "\n",
    "B = np.zeros([K+1, M+2, n_value])\n",
    "\n",
    "B = ComputeBoundarySetProb_anyloss(v_train, value_dict, p, K, M, B)\n",
    "\n",
    "np.save('B_M10_K3_p025075_E5.npy', B.flatten())"
   ]
  },
  {
   "cell_type": "code",
   "execution_count": null,
   "id": "262fa18c",
   "metadata": {},
   "outputs": [],
   "source": []
  }
 ],
 "metadata": {
  "kernelspec": {
   "display_name": "Python 3 (ipykernel)",
   "language": "python",
   "name": "python3"
  },
  "language_info": {
   "codemirror_mode": {
    "name": "ipython",
    "version": 3
   },
   "file_extension": ".py",
   "mimetype": "text/x-python",
   "name": "python",
   "nbconvert_exporter": "python",
   "pygments_lexer": "ipython3",
   "version": "3.9.16"
  }
 },
 "nbformat": 4,
 "nbformat_minor": 5
}
