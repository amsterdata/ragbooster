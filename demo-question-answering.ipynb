{
 "cells": [
  {
   "cell_type": "markdown",
   "id": "50e5a108",
   "metadata": {},
   "source": [
    "# RAGBooster Demo \n",
    "\n",
    "## Data-Centric Refinement for Question Answering with Large Language Models\n",
    "\n",
    "The scenario for this demo is **question answering with Large Language Models (LLMs)**. We use a dataset of questions about the **place of birth** of various people from the Wikifact dataset in Stanford's [HELM](https://crfm.stanford.edu/helm/latest/) benchmark. We use a sample of 500 questions from the data as the final testset for this demo.\n",
    "\n",
    "An example question is about the birth place of the Slovak ice hockey player Martin Kulha:"
   ]
  },
  {
   "cell_type": "code",
   "execution_count": 1,
   "id": "a46e57bb",
   "metadata": {},
   "outputs": [
    {
     "data": {
      "text/plain": [
       "Question(text='Martin Kulha was born in', correct_answers=['Poprad'], metadata={})"
      ]
     },
     "execution_count": 1,
     "metadata": {},
     "output_type": "execute_result"
    }
   ],
   "source": [
    "from ragbooster import BingRetriever, GPT35Generator, RAGModel, RAGBooster, score\n",
    "from ragbooster.demo import load_wikifact_questions\n",
    "\n",
    "questions = load_wikifact_questions('demo_data/wikifact_place_of_birth_helm.json')\n",
    "\n",
    "validation_questions = questions[:500]\n",
    "test_questions = questions[500:1000]\n",
    "\n",
    "example_question = questions[5]\n",
    "example_question"
   ]
  },
  {
   "cell_type": "markdown",
   "id": "fdd1ad47",
   "metadata": {},
   "source": [
    "### GPT3.5\n",
    "\n",
    "Let's see how well OpenAI's 'text-davinci-003' model from the **GPT3.5** family is doing on these questions. \n",
    "We can leverage GPT3.5 by extending the `GPT35Generator` class. We write a couple of lines of Python to define how create our prompt from the question and some few-shot examples, and how to parse the answer returned by GPT3.5\n",
    "\n",
    "_(Note that this requires an OpenAI API key to be available via the `OPENAI_API_KEY` environment variable)_"
   ]
  },
  {
   "cell_type": "code",
   "execution_count": 2,
   "id": "446c84cc",
   "metadata": {},
   "outputs": [],
   "source": [
    "import re \n",
    "\n",
    "class MyGPT35Generator(GPT35Generator):\n",
    "    \n",
    "    FEW_SHOTS = \"\\nJerry Beck (born February 9, 1955, in New York City) is an American animation historian,\" +\\\n",
    "                \" author, blogger, and video producer.Beck wrote or edited several books on classic\" +\\\n",
    "                \" American animation and classic characters.\\nJerry Beck was born in New York\\n\\n\" +\\\n",
    "                \"Ettore Maria Fizzarotti (1916–1985) was an Italian film director and screenwriter.\" +\\\n",
    "                \" Born in Naples, the son of the director Armando, he debuted as assistant director\" +\\\n",
    "                \" in the films of his father.\\nEttore Maria Fizzarotti was born in Naples\\n\"    \n",
    "    \n",
    "    def _create_prompt(self, question, retrieved_text):        \n",
    "        if retrieved_text is None:\n",
    "            return f\"{self.FEW_SHOTS}\\n\\n{question.text}\"            \n",
    "        else:\n",
    "            return f\"{self.FEW_SHOTS}\\n\\n{retrieved_text}\\n\\n{question.text}\"             \n",
    "        \n",
    "    \n",
    "    def _extract_answer(self, response):\n",
    "        answer = response.get_response()          \n",
    "\n",
    "        answer = re.sub(r'[0-9]+', '', answer)\n",
    "        answer = answer.strip()   \n",
    "\n",
    "        if ',' in answer:\n",
    "            answer = answer.split(',')[0]\n",
    "            \n",
    "        if '.' in answer:\n",
    "            answer = answer.split('.')[0]\n",
    "\n",
    "        answer = answer.strip()  \n",
    "        return answer     "
   ]
  },
  {
   "cell_type": "code",
   "execution_count": 3,
   "id": "15fdf826",
   "metadata": {},
   "outputs": [],
   "source": [
    "gpt35 = MyGPT35Generator()"
   ]
  },
  {
   "cell_type": "markdown",
   "id": "c24b2269",
   "metadata": {},
   "source": [
    "Unfortunately, GPT3.5 gives us the wrong answer to the example question!"
   ]
  },
  {
   "cell_type": "code",
   "execution_count": 4,
   "id": "ee607918",
   "metadata": {},
   "outputs": [
    {
     "name": "stdout",
     "output_type": "stream",
     "text": [
      "GPT3.5 answers \"Martin Kulha was born in\" with \"Košice\"\n",
      "Correct answers are: ['Poprad']\n"
     ]
    }
   ],
   "source": [
    "print(f'GPT3.5 answers \"{example_question.text}\" with \"{gpt35.generate(example_question)}\"')\n",
    "print(f'Correct answers are: {example_question.correct_answers}')"
   ]
  },
  {
   "cell_type": "markdown",
   "id": "60e1cbb7",
   "metadata": {},
   "source": [
    "### Poor performance of GPT3.5\n",
    "\n",
    "GPT-3.5 performs pretty bad on the testset with our current setup. It answers less than 5% of the questions correctly..."
   ]
  },
  {
   "cell_type": "code",
   "execution_count": 5,
   "id": "8ba14318",
   "metadata": {},
   "outputs": [
    {
     "data": {
      "application/vnd.jupyter.widget-view+json": {
       "model_id": "",
       "version_major": 2,
       "version_minor": 0
      },
      "text/plain": [
       "  0%|          | 0/500 [00:00<?, ?it/s]"
      ]
     },
     "metadata": {},
     "output_type": "display_data"
    },
    {
     "data": {
      "text/plain": [
       "'The accuracy of GPT3.5 on the test set is 0.048'"
      ]
     },
     "execution_count": 5,
     "metadata": {},
     "output_type": "execute_result"
    }
   ],
   "source": [
    "accuracy = score(test_questions, gpt35)\n",
    "\n",
    "f'The accuracy of GPT3.5 on the test set is {accuracy}'"
   ]
  },
  {
   "cell_type": "markdown",
   "id": "6ecef0d1",
   "metadata": {},
   "source": [
    "## Retrieval Augmentation with Bing Websearch\n",
    "\n",
    "We can improve the performance of GPT3.5 by providing it with external data to answer the questions, for example from the web. This is called **retrieval augmentation**, and we use Microsoft's Bing websearch API for that by extending the `BingRetriever` class. For that, we need to define how to create a query from the question text. In our case, we can just use the question text as the query.\n",
    "\n",
    "_(Note that this requires a Bing API key to be available via the `BING_SUBSCRIPTION_KEY` environment variable)_"
   ]
  },
  {
   "cell_type": "code",
   "execution_count": 6,
   "id": "de7a04e1",
   "metadata": {},
   "outputs": [],
   "source": [
    "class MyBingWebsearch(BingRetriever):\n",
    "    def create_query(self, question):\n",
    "        return question.text\n",
    "    \n",
    "bing_websearch = MyBingWebsearch()    "
   ]
  },
  {
   "cell_type": "markdown",
   "id": "33d5150d",
   "metadata": {},
   "source": [
    "Here is the information that we find via Bing for our example question about Martin Kulha. Note that the top results already contain the correct answer 'Poprad' in the text!"
   ]
  },
  {
   "cell_type": "code",
   "execution_count": 7,
   "id": "b2cc462e",
   "metadata": {},
   "outputs": [
    {
     "name": "stdout",
     "output_type": "stream",
     "text": [
      "https://www.wikilogy.com/biography/martin-kulha/ - Martin Kulha is an Ice Hockey Player. He was born in Poprad on August 07, 1976. Want to more about Him? In this article, we covered Martin Kulha's net worth, wiki, bio, career, height, weight, pics, family, affairs, car, salary, age, facts, and other details in 2023. Continue reading to discover who is Martin Kulha. \n",
      "\n",
      "https://www.celebsagewiki.com/martin-kulha - Martin Kulha was born on 7 August, 1976 in Poprad, Slovakia. Discover Martin Kulha's Biography, Age, Height, Physical Stats, Dating/Affairs, Family and career updates. Learn How rich is She in this year and how She spends money? Also learn how She earned most of networth at the age of 44 years old? \n",
      "\n",
      "https://icehockey.fandom.com/wiki/Martin_Kulha - Martin Kulha (born August 7, 1976) is a Slovak professional ice hockey player who formerly played with Sangliers Arvernes de Clermont in the FFHG Division 1. He is now a member of the Lyon Club in the French Division 3. Kulha had previously played in the Slovak Extraliga with HK Poprad, HC Slovan Bratislava and HK 36 Skalica Biographical information and career statistics from NHL.com, or ... \n",
      "\n"
     ]
    }
   ],
   "source": [
    "retrieved = bing_websearch.retrieve(example_question)\n",
    "for snippet, url in retrieved[:3]:\n",
    "    print(url, '-', snippet, '\\n')\n"
   ]
  },
  {
   "cell_type": "markdown",
   "id": "deffadbd",
   "metadata": {},
   "source": [
    "If we provide GPT3.5 with the retrieved extra information from Bing, it generates the correct answer in the majority of cases:"
   ]
  },
  {
   "cell_type": "code",
   "execution_count": 8,
   "id": "aa80429a",
   "metadata": {},
   "outputs": [
    {
     "name": "stdout",
     "output_type": "stream",
     "text": [
      "GPT3.5 gives the answer \"Poprad on August\" based on https://www.wikilogy.com/biography/martin-kulha/\n",
      "GPT3.5 gives the answer \"Poprad\" based on https://www.celebsagewiki.com/martin-kulha\n",
      "GPT3.5 gives the answer \"Poprad\" based on https://icehockey.fandom.com/wiki/Martin_Kulha\n",
      "GPT3.5 gives the answer \"Poprad\" based on https://biogossipy.com/martin-kulha/\n",
      "GPT3.5 gives the answer \"Poprad\" based on https://popularbio.com/martin-kulha/\n",
      "GPT3.5 gives the answer \"Poprad\" based on https://www.hockeydb.com/ihdb/stats/pdisplay.php?pid=57405\n",
      "GPT3.5 gives the answer \"Pohoří\" based on https://www.myheritage.com/names/martin_kulha\n",
      "GPT3.5 gives the answer \"Slovakia\" based on http://www.vipfaq.com/Martin%20Kulha.html\n",
      "GPT3.5 gives the answer \"Poprad\" based on https://networthmask.com/martin-kulha/\n",
      "GPT3.5 gives the answer \"August th\" based on https://en.wikipedia.org/wiki/Martin_Kulha\n"
     ]
    }
   ],
   "source": [
    "for snippet, url in retrieved[:10]:\n",
    "    print(f'GPT3.5 gives the answer \"{gpt35.generate(example_question, snippet)}\" based on {url}')    "
   ]
  },
  {
   "cell_type": "markdown",
   "id": "156bf0f1",
   "metadata": {},
   "source": [
    "In order to leverage this finding, we implement a **retrieval-augmented model** (`RAGModel`), which generates the final \n",
    "answer via a **majority vote over the top-k generated answers from GPT3.5 based on the data from Bing**.\n",
    "\n",
    "This model gives us the correct answer:"
   ]
  },
  {
   "cell_type": "code",
   "execution_count": 9,
   "id": "6485a015",
   "metadata": {},
   "outputs": [
    {
     "name": "stdout",
     "output_type": "stream",
     "text": [
      "GPT3.5 with retrieval augmentation gives the correct answer \"Poprad\"\n"
     ]
    }
   ],
   "source": [
    "rag = RAGModel(bing_websearch, gpt35, k=10)\n",
    "\n",
    "print(f'GPT3.5 with retrieval augmentation gives the correct answer \"{rag.generate(example_question)}\"')   "
   ]
  },
  {
   "cell_type": "markdown",
   "id": "1b5e3fec",
   "metadata": {},
   "source": [
    "## Evaluation\n",
    "\n",
    "Retrieval augmentation has a huge impact on the performance of our LLM. If we provide GPT3.5 \n",
    "with the top-result from Bing, it answers more than a third of the questions correctly!"
   ]
  },
  {
   "cell_type": "code",
   "execution_count": 10,
   "id": "265da01c",
   "metadata": {},
   "outputs": [
    {
     "data": {
      "application/vnd.jupyter.widget-view+json": {
       "model_id": "",
       "version_major": 2,
       "version_minor": 0
      },
      "text/plain": [
       "  0%|          | 0/500 [00:00<?, ?it/s]"
      ]
     },
     "metadata": {},
     "output_type": "display_data"
    },
    {
     "data": {
      "text/plain": [
       "'The accuracy of GPT3.5 with retrieval augmentation and k=1 on the test set is 0.336'"
      ]
     },
     "execution_count": 10,
     "metadata": {},
     "output_type": "execute_result"
    }
   ],
   "source": [
    "rag1 = RAGModel(bing_websearch, gpt35, k=1)\n",
    "\n",
    "accuracy_rag_1 = score(test_questions, rag1)\n",
    "\n",
    "f'The accuracy of GPT3.5 with retrieval augmentation and k=1 on the test set is {accuracy_rag_1}'"
   ]
  },
  {
   "cell_type": "markdown",
   "id": "f91d81c1",
   "metadata": {},
   "source": [
    "Increasing the number k requires more predictions, but also greatly improves performance again. \n",
    "With k=10, GPT3.5 answers nearly half of the questions correctly. "
   ]
  },
  {
   "cell_type": "code",
   "execution_count": 11,
   "id": "a63d8f1b",
   "metadata": {},
   "outputs": [
    {
     "data": {
      "application/vnd.jupyter.widget-view+json": {
       "model_id": "",
       "version_major": 2,
       "version_minor": 0
      },
      "text/plain": [
       "  0%|          | 0/500 [00:00<?, ?it/s]"
      ]
     },
     "metadata": {},
     "output_type": "display_data"
    },
    {
     "data": {
      "text/plain": [
       "'The accuracy of GPT3.5 with retrieval augmentation and k=10 on the test set is 0.498'"
      ]
     },
     "execution_count": 11,
     "metadata": {},
     "output_type": "execute_result"
    }
   ],
   "source": [
    "rag10 = RAGModel(bing_websearch, gpt35, k=10)\n",
    "\n",
    "accuracy_rag_10 = score(test_questions, rag10)\n",
    "\n",
    "f'The accuracy of GPT3.5 with retrieval augmentation and k=10 on the test set is {accuracy_rag_10}'"
   ]
  },
  {
   "cell_type": "markdown",
   "id": "2a79a499",
   "metadata": {},
   "source": [
    "## Improving Our Retrieval-Augmented LLM with Data-Centric Refinement\n",
    "\n",
    "We can make our retrieval augmented GPT3.5 do even better via **data-centric refinement** of its retrieval corpus. For that, we learn importance weights for the data sources in the retrieval corpus (domains in the web in our concrete case), and prune the corpus to ignore less important data sources, which are likely to give us wrong answers.\n",
    "\n",
    "Checkout our paper on **_Improving Retrieval-Augmented Large Language Models with Data-Centric Refinement_** [TODO arxiv link!!!] for the theory, implementation details and experimental results.\n",
    "\n",
    "Our approach called `RAGBooster` only needs the retrieval-augmented model and a validation corpus to learn such weights:"
   ]
  },
  {
   "cell_type": "code",
   "execution_count": 12,
   "id": "bd6279bd",
   "metadata": {},
   "outputs": [
    {
     "name": "stdout",
     "output_type": "stream",
     "text": [
      "Computing validation corpus...\n"
     ]
    },
    {
     "data": {
      "application/vnd.jupyter.widget-view+json": {
       "model_id": "",
       "version_major": 2,
       "version_minor": 0
      },
      "text/plain": [
       "  0%|          | 0/500 [00:00<?, ?it/s]"
      ]
     },
     "metadata": {},
     "output_type": "display_data"
    },
    {
     "name": "stdout",
     "output_type": "stream",
     "text": [
      "Learning importance weights for data sources...\n",
      "Tuning threshold for corpus pruning...\n",
      "Achieved accuracy of 0.586 with a pruning threshold of 0.54092 on the validation set.\n"
     ]
    }
   ],
   "source": [
    "refined_rag_model = RAGBooster(rag10, validation_questions)"
   ]
  },
  {
   "cell_type": "markdown",
   "id": "da0974b5",
   "metadata": {},
   "source": [
    "**Data-centric refinement improves the performance** of the retrieval-augmented GPT-3.5 even more!"
   ]
  },
  {
   "cell_type": "code",
   "execution_count": 13,
   "id": "21cd1336",
   "metadata": {},
   "outputs": [
    {
     "data": {
      "application/vnd.jupyter.widget-view+json": {
       "model_id": "",
       "version_major": 2,
       "version_minor": 0
      },
      "text/plain": [
       "  0%|          | 0/500 [00:00<?, ?it/s]"
      ]
     },
     "metadata": {},
     "output_type": "display_data"
    },
    {
     "data": {
      "text/plain": [
       "'RAGBooster improved the accuracy of GPT3.5 with retrieval augmentation by 0.034 to 0.532!'"
      ]
     },
     "execution_count": 13,
     "metadata": {},
     "output_type": "execute_result"
    }
   ],
   "source": [
    "accuracy_refined = score(test_questions, refined_rag_model)\n",
    "improvement = accuracy_refined - accuracy_rag_10\n",
    "\n",
    "f'RAGBooster improved the accuracy of GPT3.5 with retrieval augmentation by {improvement:.3f}'+\\\n",
    "f' to {accuracy_refined}!'"
   ]
  },
  {
   "cell_type": "markdown",
   "id": "e3de18a9",
   "metadata": {},
   "source": [
    "### Investigating important data sources\n",
    "\n",
    "We can ask our refined model about the importance weights it learned for different data sources. A complete list is available via `refined_rag_model.weights`. "
   ]
  },
  {
   "cell_type": "markdown",
   "id": "c5504c93",
   "metadata": {},
   "source": [
    "The domain `artvee.com` is among the top ranked domains. It provides data about popular classical artists at https://artvee.com/artists/ :"
   ]
  },
  {
   "cell_type": "code",
   "execution_count": 14,
   "id": "e49b6ff6",
   "metadata": {},
   "outputs": [
    {
     "data": {
      "text/plain": [
       "0.7000000000000002"
      ]
     },
     "execution_count": 14,
     "metadata": {},
     "output_type": "execute_result"
    }
   ],
   "source": [
    "refined_rag_model.importance('artvee.com')"
   ]
  },
  {
   "cell_type": "markdown",
   "id": "551612bc",
   "metadata": {},
   "source": [
    "The domain `manpower.com.ng` contains a list of famous Nigerians at https://www.manpower.com.ng/people :"
   ]
  },
  {
   "cell_type": "code",
   "execution_count": 15,
   "id": "a65a1788",
   "metadata": {},
   "outputs": [
    {
     "data": {
      "text/plain": [
       "0.7000000000000002"
      ]
     },
     "execution_count": 15,
     "metadata": {},
     "output_type": "execute_result"
    }
   ],
   "source": [
    "refined_rag_model.importance('manpower.com.ng')"
   ]
  },
  {
   "cell_type": "markdown",
   "id": "0e61a913",
   "metadata": {},
   "source": [
    "The domain `bollysuperstar.com` contains data about bollywood actors at https://bollysuperstar.com/category/bollywood-actors/ :"
   ]
  },
  {
   "cell_type": "code",
   "execution_count": 16,
   "id": "072f4090",
   "metadata": {},
   "outputs": [
    {
     "data": {
      "text/plain": [
       "0.6610798448581725"
      ]
     },
     "execution_count": 16,
     "metadata": {},
     "output_type": "execute_result"
    }
   ],
   "source": [
    "refined_rag_model.importance('bollysuperstar.com')"
   ]
  },
  {
   "cell_type": "markdown",
   "id": "e9230dd7",
   "metadata": {},
   "source": [
    "### TODO: Pointers to package/further examples "
   ]
  },
  {
   "cell_type": "code",
   "execution_count": null,
   "id": "0e7890d6",
   "metadata": {},
   "outputs": [],
   "source": []
  }
 ],
 "metadata": {
  "kernelspec": {
   "display_name": "Python 3 (ipykernel)",
   "language": "python",
   "name": "python3"
  },
  "language_info": {
   "codemirror_mode": {
    "name": "ipython",
    "version": 3
   },
   "file_extension": ".py",
   "mimetype": "text/x-python",
   "name": "python",
   "nbconvert_exporter": "python",
   "pygments_lexer": "ipython3",
   "version": "3.9.16"
  }
 },
 "nbformat": 4,
 "nbformat_minor": 5
}
