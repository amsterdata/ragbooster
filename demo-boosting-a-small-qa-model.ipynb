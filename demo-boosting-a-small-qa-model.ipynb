{
 "cells": [
  {
   "cell_type": "code",
   "execution_count": 1,
   "id": "a1d71b99",
   "metadata": {},
   "outputs": [],
   "source": [
    "import numpy as np\n",
    "from sklearn.model_selection import train_test_split\n",
    "\n",
    "from ragbooster import BingRetriever, HuggingfaceQAGenerator, Generator, RetrievalAugmentedModel, RAGBooster, score\n",
    "from ragbooster.demo import load_imputation_dataset"
   ]
  },
  {
   "cell_type": "code",
   "execution_count": 2,
   "id": "b9c63d7a",
   "metadata": {},
   "outputs": [
    {
     "data": {
      "text/plain": [
       "Question(text='name: border grill; address: 4th st.; phone: 310/451-1655', correct_answers=['los angeles'], metadata={})"
      ]
     },
     "execution_count": 2,
     "metadata": {},
     "output_type": "execute_result"
    }
   ],
   "source": [
    "np.random.seed(42)\n",
    "\n",
    "questions = load_imputation_dataset('demo_data/restaurant.csv', \n",
    "                                    impute='city', \n",
    "                                    based_on=['name', 'address', 'phone'])\n",
    "\n",
    "validation_questions, test_questions = train_test_split(questions, test_size=0.5)\n",
    "validation_questions[0]"
   ]
  },
  {
   "cell_type": "code",
   "execution_count": 3,
   "id": "ba9ab266",
   "metadata": {},
   "outputs": [],
   "source": [
    "class QAGenerator(HuggingfaceQAGenerator):\n",
    "    \n",
    "    def __init__(self, model_name, cache_path):\n",
    "        super().__init__(model_name, cache_path)\n",
    "    \n",
    "    def _create_prompt(self, question, params):\n",
    "        return { 'question': \"What is the name of the city in which this restaurant is located?\",\n",
    "                 'context': question.text }\n",
    "    \n",
    "    def _extract_answer(self, response):\n",
    "        return response['answer'].lower()"
   ]
  },
  {
   "cell_type": "code",
   "execution_count": 4,
   "id": "9af906e1",
   "metadata": {},
   "outputs": [
    {
     "data": {
      "application/vnd.jupyter.widget-view+json": {
       "model_id": "",
       "version_major": 2,
       "version_minor": 0
      },
      "text/plain": [
       "  0%|          | 0/432 [00:00<?, ?it/s]"
      ]
     },
     "metadata": {},
     "output_type": "display_data"
    },
    {
     "data": {
      "text/plain": [
       "0.05555555555555555"
      ]
     },
     "execution_count": 4,
     "metadata": {},
     "output_type": "execute_result"
    }
   ],
   "source": [
    "minilm = QAGenerator('deepset/minilm-uncased-squad2', 'demo_data/qa-cache.pkl')\n",
    "\n",
    "score(test_questions, minilm)"
   ]
  },
  {
   "cell_type": "code",
   "execution_count": 5,
   "id": "f9f9dc6c",
   "metadata": {},
   "outputs": [
    {
     "name": "stdout",
     "output_type": "stream",
     "text": [
      "name: border grill; address: 4th st.; phone: 310/451-1655; city? los angeles\n",
      "name: le soleil; address: 133 clement st.; phone: 415/668-4848; city? san francisco\n",
      "name: cypress club; address: 500 jackson st.; phone: 415/296-8555; city? san francisco\n",
      "name: west; address: 63rd street steakhouse 44 w. 63rd st.; phone: 212/246-6363; city? new york\n",
      "name: schatzi on main; address: 3110 main st.; phone: 310/399-4800; city? los angeles\n",
      "\n"
     ]
    }
   ],
   "source": [
    "few_shot = ''\n",
    "for validation_question in validation_questions[:5]:\n",
    "    few_shot += f\"{validation_question.text}; city? {validation_question.correct_answers[0]}\\n\"\n",
    "    \n",
    "print(few_shot)    "
   ]
  },
  {
   "cell_type": "code",
   "execution_count": 6,
   "id": "eecfc292",
   "metadata": {},
   "outputs": [],
   "source": [
    "import re \n",
    "\n",
    "class FewShotGenerator(Generator):\n",
    "    \n",
    "    FEW_SHOT_PROMPT = \"name: border grill; address: 4th st.; phone: 310/451-1655; city? los angeles\\n\\n\"+\\\n",
    "        \"name: le soleil; address: 133 clement st.; phone: 415/668-4848; city? san francisco\\n\\n\"+\\\n",
    "        \"name: cypress club; address: 500 jackson st.; phone: 415/296-8555; city? san francisco\\n\\n\"+\\\n",
    "        \"name: west; address: 63rd street steakhouse 44 w. 63rd st.; phone: 212/246-6363; city? new york\\n\\n\"+\\\n",
    "        \"name: schatzi on main; address: 3110 main st.; phone: 310/399-4800; city? los angeles\\n\\n\"\n",
    "\n",
    "    def __init__(self, llm):\n",
    "        super().__init__(llm=llm, max_tokens=10)    \n",
    "    \n",
    "    def _create_prompt(self, question, params):        \n",
    "        return f\"{self.FEW_SHOT_PROMPT}{question.text}; city?\"   \n",
    "    \n",
    "    def _extract_answer(self, response):\n",
    "        answer = response.get_response()          \n",
    "\n",
    "        answer = re.sub(r'[0-9]+', '', answer)\n",
    "        answer = answer.strip()   \n",
    "\n",
    "        for sep in ['\\n', ',', '.']:\n",
    "            if sep in answer:\n",
    "                answer = answer.split(sep)[0]\n",
    "\n",
    "        return answer.strip()  "
   ]
  },
  {
   "cell_type": "code",
   "execution_count": 7,
   "id": "ffb9db2e",
   "metadata": {},
   "outputs": [],
   "source": [
    "from manifest import Manifest \n",
    "\n",
    "gpt35_client = Manifest(client_name=\"openai\", engine=\"text-davinci-003\",\n",
    "                        cache_name=\"sqlite\", cache_connection=\"demo_data/gpt35-cache.sqlite\")\n",
    "\n",
    "gpt35 = FewShotGenerator(llm=gpt35_client)"
   ]
  },
  {
   "cell_type": "code",
   "execution_count": 8,
   "id": "2dba7c19",
   "metadata": {},
   "outputs": [],
   "source": [
    "# TODO: Add note that GPT3.5 has most certainly seen the data at training time..."
   ]
  },
  {
   "cell_type": "code",
   "execution_count": 9,
   "id": "c714c648",
   "metadata": {},
   "outputs": [
    {
     "data": {
      "application/vnd.jupyter.widget-view+json": {
       "model_id": "",
       "version_major": 2,
       "version_minor": 0
      },
      "text/plain": [
       "  0%|          | 0/432 [00:00<?, ?it/s]"
      ]
     },
     "metadata": {},
     "output_type": "display_data"
    },
    {
     "data": {
      "text/plain": [
       "0.8981481481481481"
      ]
     },
     "execution_count": 9,
     "metadata": {},
     "output_type": "execute_result"
    }
   ],
   "source": [
    "score(test_questions, gpt35)"
   ]
  },
  {
   "cell_type": "code",
   "execution_count": 10,
   "id": "800d0899",
   "metadata": {},
   "outputs": [],
   "source": [
    "class MyBingWebsearch(BingRetriever):\n",
    "    \n",
    "    def __init__(self, cache_path):\n",
    "        super().__init__(cache_path)\n",
    "    \n",
    "    def create_query(self, question):\n",
    "        return question.text\n",
    "    \n",
    "bing_websearch = MyBingWebsearch('demo_data/bing-cache.pkl')  "
   ]
  },
  {
   "cell_type": "code",
   "execution_count": 11,
   "id": "f43f3bcf",
   "metadata": {},
   "outputs": [
    {
     "data": {
      "text/plain": [
       "Question(text=\"name: scala's bistro; address: 432 powell st.; phone: 415/395-8555\", correct_answers=['san francisco'], metadata={})"
      ]
     },
     "execution_count": 11,
     "metadata": {},
     "output_type": "execute_result"
    }
   ],
   "source": [
    "example_question = validation_questions[11]\n",
    "example_question"
   ]
  },
  {
   "cell_type": "code",
   "execution_count": 12,
   "id": "6c89cf94",
   "metadata": {},
   "outputs": [
    {
     "name": "stdout",
     "output_type": "stream",
     "text": [
      "https://tableagent.com/san-francisco/scalas-bistro/ - Reservations Scala's Bistro Reservations Date Time Party Size Business Info + − Leaflet | © OpenStreetMap Address: 432 Powell Street, San Francisco CA 94102 Cross Street: Post Street Location: San Francisco | Union Square Cuisine: French | Italian | Pasta | Cost: | Moderate Category: Fine Dining Star Rating: Reservations: Unknown \n",
      "\n",
      "https://www.yellowpages.com/san-francisco-ca/mip/scalas-bistro-4887204 - ﻿ $$$ Italian Restaurants, Bars, Continental Restaurants (2) (2076) 7.1 OPEN NOW Today: 8:00 am - 11:00 pm 21 YEARS IN BUSINESS Amenities: (415) 395-8555 Map & Directions 432 Powell StSan Francisco, CA 94102 Write a Review Is this your business? Customize this page. Claim This Business Hours Regular Hours Scala's Bistro 432 Powell St, San Francisco \n",
      "\n",
      "https://www.chamberofcommerce.com/united-states/california/san-francisco/italian-restaurant/2006879304-scala-s-bistro - Scala's Bistro at 432 Powell St, San Francisco, CA 94102. Get Scala's Bistro can be contacted at (415) 395-8555. Get Scala's Bistro reviews, rating, hours, phone number, directions and more. \n",
      "\n"
     ]
    }
   ],
   "source": [
    "retrieved = bing_websearch.retrieve(example_question)\n",
    "for snippet, url in retrieved[:3]:\n",
    "    print(url, '-', snippet, '\\n')"
   ]
  },
  {
   "cell_type": "code",
   "execution_count": 13,
   "id": "d87425e7",
   "metadata": {},
   "outputs": [],
   "source": [
    "class QAGeneratorWithContext(HuggingfaceQAGenerator):\n",
    "    \n",
    "    def __init__(self, model_name, cache_path):\n",
    "        super().__init__(model_name, cache_path)\n",
    "    \n",
    "    def _create_prompt(self, question, params):\n",
    "        retrieved_context = params['retrieved_context']\n",
    "        return { 'question': \"What is the name of the city in which this restaurant is located?\",\n",
    "                 'context': f'{retrieved_context};{question.text}' }\n",
    "    \n",
    "    def _extract_answer(self, response):\n",
    "        return response['answer'].lower()\n",
    "    \n",
    "minilm_ctx = QAGeneratorWithContext('deepset/minilm-uncased-squad2', 'demo_data/qa_ctx-cache.pkl')"
   ]
  },
  {
   "cell_type": "code",
   "execution_count": 14,
   "id": "3f6dd996",
   "metadata": {},
   "outputs": [
    {
     "data": {
      "application/vnd.jupyter.widget-view+json": {
       "model_id": "",
       "version_major": 2,
       "version_minor": 0
      },
      "text/plain": [
       "  0%|          | 0/432 [00:00<?, ?it/s]"
      ]
     },
     "metadata": {},
     "output_type": "display_data"
    },
    {
     "data": {
      "text/plain": [
       "'The accuracy with retrieval augmentation and k=10 on the test set is 0.8009259259259259'"
      ]
     },
     "execution_count": 14,
     "metadata": {},
     "output_type": "execute_result"
    }
   ],
   "source": [
    "rag10 = RetrievalAugmentedModel(bing_websearch, minilm_ctx, k=10)\n",
    "\n",
    "accuracy_rag_10 = score(test_questions, rag10)\n",
    "\n",
    "f'The accuracy with retrieval augmentation and k=10 on the test set is {accuracy_rag_10}'"
   ]
  },
  {
   "cell_type": "code",
   "execution_count": 15,
   "id": "d896ad88",
   "metadata": {},
   "outputs": [
    {
     "name": "stdout",
     "output_type": "stream",
     "text": [
      "Computing validation corpus...\n"
     ]
    },
    {
     "data": {
      "application/vnd.jupyter.widget-view+json": {
       "model_id": "",
       "version_major": 2,
       "version_minor": 0
      },
      "text/plain": [
       "  0%|          | 0/427 [00:00<?, ?it/s]"
      ]
     },
     "metadata": {},
     "output_type": "display_data"
    },
    {
     "name": "stdout",
     "output_type": "stream",
     "text": [
      "Learning importance weights for data sources...\n",
      "Tuning threshold for corpus pruning...\n",
      "Achieved accuracy of 0.874 with a pruning threshold of 0.57806 on the validation set.\n"
     ]
    }
   ],
   "source": [
    "refined_rag_model = RAGBooster(rag10, validation_questions[5:])"
   ]
  },
  {
   "cell_type": "code",
   "execution_count": 16,
   "id": "91dab38e",
   "metadata": {},
   "outputs": [
    {
     "data": {
      "application/vnd.jupyter.widget-view+json": {
       "model_id": "",
       "version_major": 2,
       "version_minor": 0
      },
      "text/plain": [
       "  0%|          | 0/432 [00:00<?, ?it/s]"
      ]
     },
     "metadata": {},
     "output_type": "display_data"
    },
    {
     "data": {
      "text/plain": [
       "'RAGBooster improved the accuracy with retrieval augmentation by 0.044 to 0.8449074074074074!'"
      ]
     },
     "execution_count": 16,
     "metadata": {},
     "output_type": "execute_result"
    }
   ],
   "source": [
    "accuracy_refined = score(test_questions, refined_rag_model)\n",
    "improvement = accuracy_refined - accuracy_rag_10\n",
    "\n",
    "f'RAGBooster improved the accuracy with retrieval augmentation by {improvement:.3f}'+\\\n",
    "f' to {accuracy_refined}!'"
   ]
  },
  {
   "cell_type": "code",
   "execution_count": null,
   "id": "5c752b71",
   "metadata": {},
   "outputs": [],
   "source": []
  }
 ],
 "metadata": {
  "kernelspec": {
   "display_name": "Python 3 (ipykernel)",
   "language": "python",
   "name": "python3"
  },
  "language_info": {
   "codemirror_mode": {
    "name": "ipython",
    "version": 3
   },
   "file_extension": ".py",
   "mimetype": "text/x-python",
   "name": "python",
   "nbconvert_exporter": "python",
   "pygments_lexer": "ipython3",
   "version": "3.9.16"
  }
 },
 "nbformat": 4,
 "nbformat_minor": 5
}
