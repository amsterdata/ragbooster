{
 "cells": [
  {
   "cell_type": "markdown",
   "id": "48cd79d5",
   "metadata": {},
   "source": [
    "TODO: Explain question answering task, link to HELM/Wikifact"
   ]
  },
  {
   "cell_type": "code",
   "execution_count": 1,
   "id": "a46e57bb",
   "metadata": {},
   "outputs": [
    {
     "data": {
      "text/plain": [
       "Question(text='Martin Kulha was born in', correct_answers=['Poprad'], metadata={})"
      ]
     },
     "execution_count": 1,
     "metadata": {},
     "output_type": "execute_result"
    }
   ],
   "source": [
    "from ragbooster import Generator, BingRetriever, RetrievalAugmentedModel, RAGBooster, score\n",
    "from ragbooster.demo import load_wikifact_questions\n",
    "\n",
    "questions = load_wikifact_questions('demo_data/wikifact_place_of_birth_helm.json')\n",
    "\n",
    "validation_questions = questions[:500]\n",
    "test_questions = questions[500:1000]\n",
    "\n",
    "example_question = questions[5]\n",
    "example_question"
   ]
  },
  {
   "cell_type": "markdown",
   "id": "d6b9ba85",
   "metadata": {},
   "source": [
    "TODO: Refactor out retrieval stuff"
   ]
  },
  {
   "cell_type": "markdown",
   "id": "462a1c75",
   "metadata": {},
   "source": [
    "### Question Answering with Large Language Models"
   ]
  },
  {
   "cell_type": "code",
   "execution_count": 2,
   "id": "83a38b0f",
   "metadata": {},
   "outputs": [],
   "source": [
    "import re \n",
    "\n",
    "class PlaceOfBirthGenerator(Generator):\n",
    "    \n",
    "    FEW_SHOT_PROMPT = \"Brown was born in England\\n\\n\"+\\\n",
    "        \"Jerry Beck was born in New York City\\n\\n\"+\\\n",
    "        \"Werner Lorenz was born in Ludwigshafen\\n\\n\"+\\\n",
    "        \"Moritz Retzsch was born in Dresden\\n\\n\"+\\\n",
    "        \"Roni Rosadi was born in Bandar Lampung\\n\\n\"      \n",
    "    \n",
    "    def __init__(self, llm):\n",
    "        super().__init__(llm=llm, max_tokens=10)    \n",
    "    \n",
    "    def _create_prompt(self, question, params):        \n",
    "        return f\"{self.FEW_SHOT_PROMPT}\\n\\n{question.text}\"            \n",
    "\n",
    "    def _extract_answer(self, response):\n",
    "        answer = response.get_response()          \n",
    "        answer = re.sub(r'[0-9]+', '', answer)\n",
    "        answer = answer.strip()   \n",
    "\n",
    "        for sep in ['\\n', ',', '.']:\n",
    "            if sep in answer:\n",
    "                answer = answer.split(sep)[0]\n",
    "\n",
    "        return answer.strip()  "
   ]
  },
  {
   "cell_type": "code",
   "execution_count": 3,
   "id": "15fdf826",
   "metadata": {},
   "outputs": [],
   "source": [
    "from manifest import Manifest \n",
    "\n",
    "gpt35_client = Manifest(client_name=\"openai\", engine=\"text-davinci-003\",\n",
    "                        cache_name=\"sqlite\", cache_connection=\"demo_data/gpt35-cache.sqlite\")\n",
    "\n",
    "gpt35 = PlaceOfBirthGenerator(llm=gpt35_client)\n",
    "\n",
    "# https://huggingface.co/togethercomputer/RedPajama-INCITE-Instruct-3B-v1\n",
    "redpajama_client = Manifest(client_name = \"huggingface\", client_connection = \"http://127.0.0.1:5550\",\n",
    "                            cache_name='sqlite', cache_connection=\"demo_data/rp3b-cache.sqlite\")\n",
    "\n",
    "redpajama = PlaceOfBirthGenerator(llm=redpajama_client)"
   ]
  },
  {
   "cell_type": "code",
   "execution_count": 4,
   "id": "6f670e99",
   "metadata": {},
   "outputs": [],
   "source": [
    "from manifest.clients.huggingface import HuggingFaceClient\n",
    "import types\n",
    "\n",
    "client = redpajama_client.client_pool.get_current_client()\n",
    "redpajama_model_params = client.get_model_params()\n",
    "\n",
    "def cached_params(self):\n",
    "    return redpajama_model_params\n",
    "\n",
    "client.get_model_params = types.MethodType(cached_params, client)"
   ]
  },
  {
   "cell_type": "code",
   "execution_count": 5,
   "id": "a934a61c",
   "metadata": {},
   "outputs": [
    {
     "data": {
      "text/plain": [
       "{'model_name': 'togethercomputer/RedPajama-INCITE-Instruct-3B-v1',\n",
       " 'model_path': 'togethercomputer/RedPajama-INCITE-Instruct-3B-v1',\n",
       " 'client_name': 'huggingface'}"
      ]
     },
     "execution_count": 5,
     "metadata": {},
     "output_type": "execute_result"
    }
   ],
   "source": [
    "redpajama_model_params"
   ]
  },
  {
   "cell_type": "code",
   "execution_count": 6,
   "id": "ee607918",
   "metadata": {},
   "outputs": [
    {
     "name": "stdout",
     "output_type": "stream",
     "text": [
      "GPT3.5 answers \"Martin Kulha was born in\" with \"Prague\"\n",
      "RedPajama3B answers \"Martin Kulha was born in\" with \"Prague\"\n",
      "Correct answers are: ['Poprad']\n"
     ]
    }
   ],
   "source": [
    "print(f'GPT3.5 answers \"{example_question.text}\" with \"{gpt35.generate(example_question)}\"')\n",
    "print(f'RedPajama3B answers \"{example_question.text}\" with \"{redpajama.generate(example_question)}\"')\n",
    "print(f'Correct answers are: {example_question.correct_answers}')"
   ]
  },
  {
   "cell_type": "code",
   "execution_count": 7,
   "id": "8ba14318",
   "metadata": {},
   "outputs": [
    {
     "data": {
      "application/vnd.jupyter.widget-view+json": {
       "model_id": "",
       "version_major": 2,
       "version_minor": 0
      },
      "text/plain": [
       "  0%|          | 0/500 [00:00<?, ?it/s]"
      ]
     },
     "metadata": {},
     "output_type": "display_data"
    },
    {
     "data": {
      "text/plain": [
       "'The accuracy of GPT3.5 on the test set is 0.14'"
      ]
     },
     "execution_count": 7,
     "metadata": {},
     "output_type": "execute_result"
    }
   ],
   "source": [
    "accuracy = score(test_questions, gpt35)\n",
    "\n",
    "f'The accuracy of GPT3.5 on the test set is {accuracy}'"
   ]
  },
  {
   "cell_type": "code",
   "execution_count": 8,
   "id": "daa98e02",
   "metadata": {},
   "outputs": [
    {
     "data": {
      "application/vnd.jupyter.widget-view+json": {
       "model_id": "",
       "version_major": 2,
       "version_minor": 0
      },
      "text/plain": [
       "  0%|          | 0/500 [00:00<?, ?it/s]"
      ]
     },
     "metadata": {},
     "output_type": "display_data"
    },
    {
     "data": {
      "text/plain": [
       "'The accuracy of RedPajama3B on the test set is 0.1'"
      ]
     },
     "execution_count": 8,
     "metadata": {},
     "output_type": "execute_result"
    }
   ],
   "source": [
    "accuracy = score(test_questions, redpajama)\n",
    "\n",
    "f'The accuracy of RedPajama3B on the test set is {accuracy}'"
   ]
  },
  {
   "cell_type": "markdown",
   "id": "a52d7ec3",
   "metadata": {},
   "source": [
    "### Retrieval Augmentation"
   ]
  },
  {
   "cell_type": "code",
   "execution_count": 9,
   "id": "de7a04e1",
   "metadata": {},
   "outputs": [],
   "source": [
    "class MyBingWebsearch(BingRetriever):\n",
    "    \n",
    "    def __init__(self, cache_path):\n",
    "        super().__init__(cache_path)\n",
    "    \n",
    "    def create_query(self, question):\n",
    "        return question.text\n",
    "    \n",
    "bing_websearch = MyBingWebsearch('demo_data/bing-cache.pkl')    "
   ]
  },
  {
   "cell_type": "code",
   "execution_count": 10,
   "id": "48f294f8",
   "metadata": {},
   "outputs": [],
   "source": [
    "class PlaceOfBirthGeneratorWithContext(Generator):\n",
    "    \n",
    "    RETRIEVAL_PROMPT = \"\\nJerry Beck (born February 9, 1955, in New York City) is an American animation historian,\" +\\\n",
    "        \" author, blogger, and video producer.Beck wrote or edited several books on classic\" +\\\n",
    "        \" American animation and classic characters.\\nJerry Beck was born in New York\\n\\n\" +\\\n",
    "        \"Ettore Maria Fizzarotti (1916–1985) was an Italian film director and screenwriter.\" +\\\n",
    "        \" Born in Naples, the son of the director Armando, he debuted as assistant director\" +\\\n",
    "        \" in the films of his father.\\nEttore Maria Fizzarotti was born in Naples\\n\"       \n",
    "    \n",
    "    def __init__(self, llm):\n",
    "        super().__init__(llm=llm, max_tokens=10)    \n",
    "    \n",
    "    def _create_prompt(self, question, params):        \n",
    "        retrieved_text = params['retrieved_context']\n",
    "        return f\"{self.RETRIEVAL_PROMPT}\\n\\n{retrieved_text}\\n\\n{question.text}\"               \n",
    "\n",
    "    def _extract_answer(self, response):\n",
    "        answer = response.get_response()          \n",
    "\n",
    "        answer = re.sub(r'[0-9]+', '', answer)\n",
    "        answer = answer.strip()   \n",
    "\n",
    "        for sep in ['\\n', ',', '.']:\n",
    "            if sep in answer:\n",
    "                answer = answer.split(sep)[0]\n",
    "\n",
    "        return answer.strip()  \n",
    "    \n",
    "gpt35_ctx = PlaceOfBirthGeneratorWithContext(llm=gpt35_client)   \n",
    "redpajama_ctx = PlaceOfBirthGeneratorWithContext(llm=redpajama_client)"
   ]
  },
  {
   "cell_type": "code",
   "execution_count": 11,
   "id": "b2cc462e",
   "metadata": {},
   "outputs": [
    {
     "name": "stdout",
     "output_type": "stream",
     "text": [
      "https://www.wikilogy.com/biography/martin-kulha/ - Martin Kulha is an Ice Hockey Player. He was born in Poprad on August 07, 1976. Want to more about Him? In this article, we covered Martin Kulha's net worth, wiki, bio, career, height, weight, pics, family, affairs, car, salary, age, facts, and other details in 2023. Continue reading to discover who is Martin Kulha. \n",
      "\n",
      "https://www.celebsagewiki.com/martin-kulha - Martin Kulha was born on 7 August, 1976 in Poprad, Slovakia. Discover Martin Kulha's Biography, Age, Height, Physical Stats, Dating/Affairs, Family and career updates. Learn How rich is She in this year and how She spends money? Also learn how She earned most of networth at the age of 44 years old? \n",
      "\n",
      "https://icehockey.fandom.com/wiki/Martin_Kulha - Martin Kulha (born August 7, 1976) is a Slovak professional ice hockey player who formerly played with Sangliers Arvernes de Clermont in the FFHG Division 1. He is now a member of the Lyon Club in the French Division 3. Kulha had previously played in the Slovak Extraliga with HK Poprad, HC Slovan Bratislava and HK 36 Skalica Biographical information and career statistics from NHL.com, or ... \n",
      "\n"
     ]
    }
   ],
   "source": [
    "retrieved = bing_websearch.retrieve(example_question)\n",
    "for snippet, url in retrieved[:3]:\n",
    "    print(url, '-', snippet, '\\n')\n"
   ]
  },
  {
   "cell_type": "code",
   "execution_count": 12,
   "id": "aa80429a",
   "metadata": {},
   "outputs": [
    {
     "name": "stdout",
     "output_type": "stream",
     "text": [
      "GPT3.5 gives the answer \"Poprad on August\" based on https://www.wikilogy.com/biography/martin-kulha/\n",
      "GPT3.5 gives the answer \"Poprad\" based on https://www.celebsagewiki.com/martin-kulha\n",
      "GPT3.5 gives the answer \"Poprad\" based on https://icehockey.fandom.com/wiki/Martin_Kulha\n",
      "GPT3.5 gives the answer \"Poprad\" based on https://biogossipy.com/martin-kulha/\n",
      "GPT3.5 gives the answer \"Poprad\" based on https://popularbio.com/martin-kulha/\n",
      "GPT3.5 gives the answer \"Poprad\" based on https://www.hockeydb.com/ihdb/stats/pdisplay.php?pid=57405\n",
      "GPT3.5 gives the answer \"Pohoří\" based on https://www.myheritage.com/names/martin_kulha\n",
      "GPT3.5 gives the answer \"Slovakia\" based on http://www.vipfaq.com/Martin%20Kulha.html\n",
      "GPT3.5 gives the answer \"Poprad\" based on https://networthmask.com/martin-kulha/\n",
      "GPT3.5 gives the answer \"August th\" based on https://en.wikipedia.org/wiki/Martin_Kulha\n"
     ]
    }
   ],
   "source": [
    "for snippet, url in retrieved[:10]:\n",
    "    answer = gpt35_ctx.generate(example_question, {'retrieved_context': snippet})\n",
    "    print(f'GPT3.5 gives the answer \"{answer}\" based on {url}')    "
   ]
  },
  {
   "cell_type": "code",
   "execution_count": 13,
   "id": "6485a015",
   "metadata": {},
   "outputs": [
    {
     "name": "stdout",
     "output_type": "stream",
     "text": [
      "GPT3.5 with retrieval augmentation gives the correct answer \"Poprad\"\n"
     ]
    }
   ],
   "source": [
    "rag = RetrievalAugmentedModel(bing_websearch, gpt35_ctx, k=10)\n",
    "\n",
    "print(f'GPT3.5 with retrieval augmentation gives the correct answer \"{rag.generate(example_question)}\"')   "
   ]
  },
  {
   "cell_type": "code",
   "execution_count": 14,
   "id": "265da01c",
   "metadata": {},
   "outputs": [
    {
     "data": {
      "application/vnd.jupyter.widget-view+json": {
       "model_id": "",
       "version_major": 2,
       "version_minor": 0
      },
      "text/plain": [
       "  0%|          | 0/500 [00:00<?, ?it/s]"
      ]
     },
     "metadata": {},
     "output_type": "display_data"
    },
    {
     "data": {
      "text/plain": [
       "'The accuracy of GPT3.5 with retrieval augmentation and k=1 on the test set is 0.336'"
      ]
     },
     "execution_count": 14,
     "metadata": {},
     "output_type": "execute_result"
    }
   ],
   "source": [
    "gpt35_rag1 = RetrievalAugmentedModel(bing_websearch, gpt35_ctx, k=1)\n",
    "\n",
    "accuracy = score(test_questions, gpt35_rag1)\n",
    "\n",
    "f'The accuracy of GPT3.5 with retrieval augmentation and k=1 on the test set is {accuracy}'"
   ]
  },
  {
   "cell_type": "code",
   "execution_count": 15,
   "id": "115dcf1b",
   "metadata": {},
   "outputs": [
    {
     "data": {
      "application/vnd.jupyter.widget-view+json": {
       "model_id": "",
       "version_major": 2,
       "version_minor": 0
      },
      "text/plain": [
       "  0%|          | 0/500 [00:00<?, ?it/s]"
      ]
     },
     "metadata": {},
     "output_type": "display_data"
    },
    {
     "data": {
      "text/plain": [
       "'The accuracy of RedPajama3B with retrieval augmentation and k=1 on the test set is 0.41'"
      ]
     },
     "execution_count": 15,
     "metadata": {},
     "output_type": "execute_result"
    }
   ],
   "source": [
    "redpajama_rag1 = RetrievalAugmentedModel(bing_websearch, redpajama_ctx, k=1)\n",
    "\n",
    "accuracy = score(test_questions, redpajama_rag1)\n",
    "\n",
    "f'The accuracy of RedPajama3B with retrieval augmentation and k=1 on the test set is {accuracy}'"
   ]
  },
  {
   "cell_type": "code",
   "execution_count": 16,
   "id": "a63d8f1b",
   "metadata": {},
   "outputs": [
    {
     "data": {
      "application/vnd.jupyter.widget-view+json": {
       "model_id": "",
       "version_major": 2,
       "version_minor": 0
      },
      "text/plain": [
       "  0%|          | 0/500 [00:00<?, ?it/s]"
      ]
     },
     "metadata": {},
     "output_type": "display_data"
    },
    {
     "data": {
      "text/plain": [
       "'The accuracy of GPT3.5 with retrieval augmentation and k=10 on the test set is 0.498'"
      ]
     },
     "execution_count": 16,
     "metadata": {},
     "output_type": "execute_result"
    }
   ],
   "source": [
    "gpt35_rag10 = RetrievalAugmentedModel(bing_websearch, gpt35_ctx, k=10)\n",
    "\n",
    "accuracy_gpt35_rag10 = score(test_questions, gpt35_rag10)\n",
    "\n",
    "f'The accuracy of GPT3.5 with retrieval augmentation and k=10 on the test set is {accuracy_gpt35_rag10}'"
   ]
  },
  {
   "cell_type": "code",
   "execution_count": 17,
   "id": "e979a1df",
   "metadata": {},
   "outputs": [
    {
     "data": {
      "application/vnd.jupyter.widget-view+json": {
       "model_id": "",
       "version_major": 2,
       "version_minor": 0
      },
      "text/plain": [
       "  0%|          | 0/500 [00:00<?, ?it/s]"
      ]
     },
     "metadata": {},
     "output_type": "display_data"
    },
    {
     "data": {
      "text/plain": [
       "'The accuracy of RedPajama3B with retrieval augmentation and k=10 on the test set is 0.496'"
      ]
     },
     "execution_count": 17,
     "metadata": {},
     "output_type": "execute_result"
    }
   ],
   "source": [
    "redpajama_rag10 = RetrievalAugmentedModel(bing_websearch, redpajama_ctx, k=10)\n",
    "\n",
    "accuracy_redpajama_rag10 = score(test_questions, redpajama_rag10)\n",
    "\n",
    "f'The accuracy of RedPajama3B with retrieval augmentation and k=10 on the test set is {accuracy_redpajama_rag10}'"
   ]
  },
  {
   "cell_type": "markdown",
   "id": "34d61c99",
   "metadata": {},
   "source": [
    "### Improving the performance further with RAGBooster"
   ]
  },
  {
   "cell_type": "code",
   "execution_count": 18,
   "id": "bd6279bd",
   "metadata": {},
   "outputs": [
    {
     "name": "stdout",
     "output_type": "stream",
     "text": [
      "Computing validation corpus...\n"
     ]
    },
    {
     "data": {
      "application/vnd.jupyter.widget-view+json": {
       "model_id": "",
       "version_major": 2,
       "version_minor": 0
      },
      "text/plain": [
       "  0%|          | 0/500 [00:00<?, ?it/s]"
      ]
     },
     "metadata": {},
     "output_type": "display_data"
    },
    {
     "name": "stdout",
     "output_type": "stream",
     "text": [
      "Learning importance weights for data sources...\n",
      "Tuning threshold for corpus pruning...\n",
      "Achieved accuracy of 0.586 with a pruning threshold of 0.54092 on the validation set.\n"
     ]
    }
   ],
   "source": [
    "gpt35_rag_boosted = RAGBooster(gpt35_rag10, validation_questions)"
   ]
  },
  {
   "cell_type": "code",
   "execution_count": 19,
   "id": "21cd1336",
   "metadata": {},
   "outputs": [
    {
     "data": {
      "application/vnd.jupyter.widget-view+json": {
       "model_id": "",
       "version_major": 2,
       "version_minor": 0
      },
      "text/plain": [
       "  0%|          | 0/500 [00:00<?, ?it/s]"
      ]
     },
     "metadata": {},
     "output_type": "display_data"
    },
    {
     "data": {
      "text/plain": [
       "'RAGBooster boosted the accuracy of GPT3.5 with retrieval augmentation from 0.498 to 0.532!'"
      ]
     },
     "execution_count": 19,
     "metadata": {},
     "output_type": "execute_result"
    }
   ],
   "source": [
    "accuracy = score(test_questions, gpt35_rag_boosted)\n",
    "\n",
    "f'RAGBooster boosted the accuracy of GPT3.5 with retrieval augmentation'+\\\n",
    "f' from {accuracy_gpt35_rag10} to {accuracy}!'"
   ]
  },
  {
   "cell_type": "code",
   "execution_count": 20,
   "id": "310a9e96",
   "metadata": {},
   "outputs": [
    {
     "name": "stdout",
     "output_type": "stream",
     "text": [
      "Computing validation corpus...\n"
     ]
    },
    {
     "data": {
      "application/vnd.jupyter.widget-view+json": {
       "model_id": "",
       "version_major": 2,
       "version_minor": 0
      },
      "text/plain": [
       "  0%|          | 0/500 [00:00<?, ?it/s]"
      ]
     },
     "metadata": {},
     "output_type": "display_data"
    },
    {
     "name": "stdout",
     "output_type": "stream",
     "text": [
      "Learning importance weights for data sources...\n",
      "Tuning threshold for corpus pruning...\n",
      "Achieved accuracy of 0.596 with a pruning threshold of 0.54764 on the validation set.\n"
     ]
    }
   ],
   "source": [
    "redpajama_rag_boosted = RAGBooster(redpajama_rag10, validation_questions)"
   ]
  },
  {
   "cell_type": "code",
   "execution_count": 21,
   "id": "0e7890d6",
   "metadata": {},
   "outputs": [
    {
     "data": {
      "application/vnd.jupyter.widget-view+json": {
       "model_id": "",
       "version_major": 2,
       "version_minor": 0
      },
      "text/plain": [
       "  0%|          | 0/500 [00:00<?, ?it/s]"
      ]
     },
     "metadata": {},
     "output_type": "display_data"
    },
    {
     "data": {
      "text/plain": [
       "'RAGBooster boosted the accuracy of RedPajama3B with retrieval augmentation from 0.496 to 0.528!'"
      ]
     },
     "execution_count": 21,
     "metadata": {},
     "output_type": "execute_result"
    }
   ],
   "source": [
    "accuracy = score(test_questions, redpajama_rag_boosted)\n",
    "\n",
    "f'RAGBooster boosted the accuracy of RedPajama3B with retrieval augmentation'+\\\n",
    "f' from {accuracy_redpajama_rag10} to {accuracy}!'"
   ]
  },
  {
   "cell_type": "code",
   "execution_count": null,
   "id": "74a68192",
   "metadata": {},
   "outputs": [],
   "source": []
  }
 ],
 "metadata": {
  "kernelspec": {
   "display_name": "Python 3 (ipykernel)",
   "language": "python",
   "name": "python3"
  },
  "language_info": {
   "codemirror_mode": {
    "name": "ipython",
    "version": 3
   },
   "file_extension": ".py",
   "mimetype": "text/x-python",
   "name": "python",
   "nbconvert_exporter": "python",
   "pygments_lexer": "ipython3",
   "version": "3.9.16"
  }
 },
 "nbformat": 4,
 "nbformat_minor": 5
}
