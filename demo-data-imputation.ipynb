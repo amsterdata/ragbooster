{
 "cells": [
  {
   "cell_type": "code",
   "execution_count": null,
   "id": "c2c4cf60",
   "metadata": {},
   "outputs": [],
   "source": [
    "import pandas as pd\n",
    "import numpy as np\n",
    "\n",
    "from sklearn.model_selection import train_test_split"
   ]
  },
  {
   "cell_type": "code",
   "execution_count": 2,
   "id": "29cd71bf",
   "metadata": {},
   "outputs": [
    {
     "data": {
      "text/plain": [
       "Question(text='name: border grill; address: 4th st.; phone: 310/451-1655', correct_answers=['los angeles'], metadata={})"
      ]
     },
     "execution_count": 2,
     "metadata": {},
     "output_type": "execute_result"
    }
   ],
   "source": [
    "from ragbooster.core import Question\n",
    "\n",
    "np.random.seed(42)\n",
    "\n",
    "table = pd.read_csv('demo_data/restaurant.csv')\n",
    "questions = []\n",
    "for _, row in table.iterrows():\n",
    "    question = Question(\n",
    "        text=f\"name: {row['name']}; address: {row['addr']}; phone: {row['phone']}\", \n",
    "        correct_answers=[row['city'].lower()])\n",
    "    \n",
    "    questions.append(question)   \n",
    "\n",
    "validation_questions, test_questions = train_test_split(questions, test_size=0.5)\n",
    "validation_questions[0]"
   ]
  },
  {
   "cell_type": "code",
   "execution_count": 3,
   "id": "b21f7c9d",
   "metadata": {},
   "outputs": [],
   "source": [
    "from transformers import pipeline\n",
    "\n",
    "class HuggingfaceGenerator:\n",
    "\n",
    "    def __init__(self):\n",
    "        model_name = \"deepset/minilm-uncased-squad2\"\n",
    "        self.pipeline = pipeline('question-answering', model=model_name, tokenizer=model_name)\n",
    "\n",
    "    def generate(self, question, snippet=None):\n",
    "        \n",
    "        if snippet is None:\n",
    "            context = question.text\n",
    "        else:\n",
    "            context = f'{snippet};{question.text}'\n",
    "            \n",
    "        response = self.pipeline({\n",
    "            'question': \"What is the name of the city in which this restaurant is located?\",\n",
    "            'context': context\n",
    "        })  \n",
    "        \n",
    "        return self._extract_answer(response)\n",
    "\n",
    "    def _extract_answer(self, response):\n",
    "        return response['answer'].lower()"
   ]
  },
  {
   "cell_type": "code",
   "execution_count": 4,
   "id": "2d271240",
   "metadata": {},
   "outputs": [
    {
     "data": {
      "application/vnd.jupyter.widget-view+json": {
       "model_id": "",
       "version_major": 2,
       "version_minor": 0
      },
      "text/plain": [
       "  0%|          | 0/432 [00:00<?, ?it/s]"
      ]
     },
     "metadata": {},
     "output_type": "display_data"
    },
    {
     "data": {
      "text/plain": [
       "0.05555555555555555"
      ]
     },
     "execution_count": 4,
     "metadata": {},
     "output_type": "execute_result"
    }
   ],
   "source": [
    "from ragbooster import score\n",
    "\n",
    "llm = HuggingfaceGenerator()\n",
    "\n",
    "score(test_questions, llm)"
   ]
  },
  {
   "cell_type": "code",
   "execution_count": 5,
   "id": "32d59c3d",
   "metadata": {},
   "outputs": [],
   "source": [
    "from ragbooster import BingRetriever, RAGModel, RAGBooster"
   ]
  },
  {
   "cell_type": "code",
   "execution_count": 9,
   "id": "9613c02b",
   "metadata": {},
   "outputs": [],
   "source": [
    "class MyBingWebsearch(BingRetriever):\n",
    "    def create_query(self, question):\n",
    "        return question.text\n",
    "    \n",
    "bing_websearch = MyBingWebsearch()  "
   ]
  },
  {
   "cell_type": "code",
   "execution_count": 10,
   "id": "d865d079",
   "metadata": {},
   "outputs": [
    {
     "data": {
      "text/plain": [
       "Question(text=\"name: scala's bistro; address: 432 powell st.; phone: 415/395-8555\", correct_answers=['san francisco'], metadata={})"
      ]
     },
     "execution_count": 10,
     "metadata": {},
     "output_type": "execute_result"
    }
   ],
   "source": [
    "example_question = validation_questions[11]\n",
    "example_question"
   ]
  },
  {
   "cell_type": "code",
   "execution_count": 11,
   "id": "a760a091",
   "metadata": {},
   "outputs": [
    {
     "name": "stdout",
     "output_type": "stream",
     "text": [
      "https://tableagent.com/san-francisco/scalas-bistro/ - Reservations Scala's Bistro Reservations Date Time Party Size Business Info + − Leaflet | © OpenStreetMap Address: 432 Powell Street, San Francisco CA 94102 Cross Street: Post Street Location: San Francisco | Union Square Cuisine: French | Italian | Pasta | Cost: | Moderate Category: Fine Dining Star Rating: Reservations: Unknown \n",
      "\n",
      "https://www.yellowpages.com/san-francisco-ca/mip/scalas-bistro-4887204 - ﻿ $$$ Italian Restaurants, Bars, Continental Restaurants (2) (2076) 7.1 OPEN NOW Today: 8:00 am - 11:00 pm 21 YEARS IN BUSINESS Amenities: (415) 395-8555 Map & Directions 432 Powell StSan Francisco, CA 94102 Write a Review Is this your business? Customize this page. Claim This Business Hours Regular Hours Scala's Bistro 432 Powell St, San Francisco \n",
      "\n",
      "https://www.chamberofcommerce.com/united-states/california/san-francisco/italian-restaurant/2006879304-scala-s-bistro - Scala's Bistro at 432 Powell St, San Francisco, CA 94102. Get Scala's Bistro can be contacted at (415) 395-8555. Get Scala's Bistro reviews, rating, hours, phone number, directions and more. \n",
      "\n"
     ]
    }
   ],
   "source": [
    "retrieved = bing_websearch.retrieve(example_question)\n",
    "for snippet, url in retrieved[:3]:\n",
    "    print(url, '-', snippet, '\\n')"
   ]
  },
  {
   "cell_type": "code",
   "execution_count": 12,
   "id": "b28b1c6e",
   "metadata": {},
   "outputs": [
    {
     "data": {
      "application/vnd.jupyter.widget-view+json": {
       "model_id": "",
       "version_major": 2,
       "version_minor": 0
      },
      "text/plain": [
       "  0%|          | 0/432 [00:00<?, ?it/s]"
      ]
     },
     "metadata": {},
     "output_type": "display_data"
    },
    {
     "data": {
      "text/plain": [
       "'The accuracy with retrieval augmentation and k=10 on the test set is 0.8009259259259259'"
      ]
     },
     "execution_count": 12,
     "metadata": {},
     "output_type": "execute_result"
    }
   ],
   "source": [
    "rag10 = RAGModel(bing_websearch, llm, k=10)\n",
    "\n",
    "accuracy_rag_10 = score(test_questions, rag10)\n",
    "\n",
    "f'The accuracy with retrieval augmentation and k=10 on the test set is {accuracy_rag_10}'"
   ]
  },
  {
   "cell_type": "code",
   "execution_count": 13,
   "id": "794f8666",
   "metadata": {},
   "outputs": [
    {
     "name": "stdout",
     "output_type": "stream",
     "text": [
      "Computing validation corpus...\n"
     ]
    },
    {
     "data": {
      "application/vnd.jupyter.widget-view+json": {
       "model_id": "",
       "version_major": 2,
       "version_minor": 0
      },
      "text/plain": [
       "  0%|          | 0/432 [00:00<?, ?it/s]"
      ]
     },
     "metadata": {},
     "output_type": "display_data"
    },
    {
     "name": "stdout",
     "output_type": "stream",
     "text": [
      "Learning importance weights for data sources...\n",
      "Tuning threshold for corpus pruning...\n",
      "Achieved accuracy of 0.870 with a pruning threshold of 0.57714 on the validation set.\n"
     ]
    }
   ],
   "source": [
    "refined_rag_model = RAGBooster(rag10, validation_questions)"
   ]
  },
  {
   "cell_type": "code",
   "execution_count": 14,
   "id": "e503d79e",
   "metadata": {},
   "outputs": [
    {
     "data": {
      "application/vnd.jupyter.widget-view+json": {
       "model_id": "",
       "version_major": 2,
       "version_minor": 0
      },
      "text/plain": [
       "  0%|          | 0/432 [00:00<?, ?it/s]"
      ]
     },
     "metadata": {},
     "output_type": "display_data"
    },
    {
     "data": {
      "text/plain": [
       "'RAGBooster improved the accuracy with retrieval augmentation by 0.044 to 0.8449074074074074!'"
      ]
     },
     "execution_count": 14,
     "metadata": {},
     "output_type": "execute_result"
    }
   ],
   "source": [
    "accuracy_refined = score(test_questions, refined_rag_model)\n",
    "improvement = accuracy_refined - accuracy_rag_10\n",
    "\n",
    "f'RAGBooster improved the accuracy with retrieval augmentation by {improvement:.3f}'+\\\n",
    "f' to {accuracy_refined}!'"
   ]
  },
  {
   "cell_type": "code",
   "execution_count": null,
   "id": "3642eced",
   "metadata": {},
   "outputs": [],
   "source": []
  }
 ],
 "metadata": {
  "kernelspec": {
   "display_name": "Python 3 (ipykernel)",
   "language": "python",
   "name": "python3"
  },
  "language_info": {
   "codemirror_mode": {
    "name": "ipython",
    "version": 3
   },
   "file_extension": ".py",
   "mimetype": "text/x-python",
   "name": "python",
   "nbconvert_exporter": "python",
   "pygments_lexer": "ipython3",
   "version": "3.9.16"
  }
 },
 "nbformat": 4,
 "nbformat_minor": 5
}
